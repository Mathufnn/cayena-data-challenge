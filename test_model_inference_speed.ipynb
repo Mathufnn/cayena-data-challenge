{
 "cells": [
  {
   "cell_type": "code",
   "execution_count": 1,
   "metadata": {},
   "outputs": [],
   "source": [
    "import requests\n",
    "import json\n",
    "import time"
   ]
  },
  {
   "cell_type": "code",
   "execution_count": 4,
   "metadata": {},
   "outputs": [
    {
     "name": "stdout",
     "output_type": "stream",
     "text": [
      "Time taken for 1000 predictions: 0.21 seconds\n",
      "Response status code: 200\n",
      "Time taken for 10000 predictions: 2.10 seconds\n",
      "Response status code: 200\n",
      "Time taken for 100000 predictions: 20.78 seconds\n",
      "Response status code: 200\n"
     ]
    }
   ],
   "source": [
    "sample = {\n",
    "    \"col_0\": -181.3267976374,\n",
    "    \"col_1\": 1820.2522173486,\n",
    "    \"col_2\": -574.8671455493,\n",
    "    \"col_3\": 596.6625024486,\n",
    "    \"col_4\": 1089.6929828452,\n",
    "    \"col_5\": -753.6104086957,\n",
    "    \"col_6\": 185.2432613175,\n",
    "    \"col_7\": 1500.1382735725,\n",
    "    \"total_quantity\": 121,\n",
    "    \"augmented_quantity\": 515,\n",
    "    \"FU\": \"SP\",\n",
    "    \"City\": \"São Paulo\",\n",
    "    \"CEP\": 8040220,\n",
    "    \"date_time_login\": \"2022-06-10 17:16:56\",\n",
    "    \"date_time_confirm\": \"2022-06-10 17:17:19\"\n",
    "}\n",
    "\n",
    "batch_sizes = [1000, 10000, 100000]\n",
    "url = \"http://localhost:8000/predict_batch\"\n",
    "\n",
    "def test_batch_inference(batch_size):\n",
    "    samples = [sample] * batch_size\n",
    "    batch_input = {\"inputs\": samples}\n",
    "    start_time = time.time()\n",
    "    response = requests.post(url, json=batch_input)\n",
    "    end_time = time.time()\n",
    "    time_taken = end_time - start_time\n",
    "\n",
    "    print(f\"Time taken for {batch_size} predictions: {time_taken:.2f} seconds\")\n",
    "    print(f\"Response status code: {response.status_code}\")\n",
    "\n",
    "for batch_size in batch_sizes:\n",
    "    test_batch_inference(batch_size)"
   ]
  }
 ],
 "metadata": {
  "kernelspec": {
   "display_name": "Python 3",
   "language": "python",
   "name": "python3"
  },
  "language_info": {
   "codemirror_mode": {
    "name": "ipython",
    "version": 3
   },
   "file_extension": ".py",
   "mimetype": "text/x-python",
   "name": "python",
   "nbconvert_exporter": "python",
   "pygments_lexer": "ipython3",
   "version": "3.10.12"
  }
 },
 "nbformat": 4,
 "nbformat_minor": 2
}
